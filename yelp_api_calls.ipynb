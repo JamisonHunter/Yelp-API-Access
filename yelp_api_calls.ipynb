{
 "cells": [
  {
   "cell_type": "markdown",
   "id": "c0689f95",
   "metadata": {},
   "source": [
    "Jamison Hunter\n",
    "\n",
    "July 6, 2023\n",
    "\n",
    "# Yelp API Calls"
   ]
  },
  {
   "cell_type": "code",
   "execution_count": 1,
   "id": "05856648",
   "metadata": {},
   "outputs": [],
   "source": [
    "# Standard Imports\n",
    "import numpy as np\n",
    "import pandas as pd\n",
    "import matplotlib.pyplot as plt\n",
    "import seaborn as sns\n",
    "# Additional Imports\n",
    "import os, json, math, time\n",
    "from yelpapi import YelpAPI\n",
    "from tqdm.notebook import tqdm_notebook"
   ]
  },
  {
   "cell_type": "markdown",
   "id": "5774841d",
   "metadata": {},
   "source": [
    "This demonstrates that the client ID and API key are accessible. "
   ]
  },
  {
   "cell_type": "code",
   "execution_count": 2,
   "id": "3c15c953",
   "metadata": {},
   "outputs": [],
   "source": [
    "# Load API Credentials\n",
    "with open('/Users/Jamison/.secret/yelp_api.json') as f:   #use your path here!\n",
    "    login = json.load(f)\n",
    "# Instantiate YelpAPI Variable\n",
    "yelp_api = YelpAPI(login['api-key'], timeout_s=5.0)"
   ]
  },
  {
   "cell_type": "code",
   "execution_count": 3,
   "id": "353279c0",
   "metadata": {},
   "outputs": [],
   "source": [
    "# set our API call parameters \n",
    "LOCATION = 'Indianapolis, IN'\n",
    "TERM = 'Pizza'"
   ]
  },
  {
   "cell_type": "code",
   "execution_count": 4,
   "id": "7372ef76",
   "metadata": {},
   "outputs": [
    {
     "data": {
      "text/plain": [
       "'Data/results_in_progress_indianapolis_pizza.json'"
      ]
     },
     "execution_count": 4,
     "metadata": {},
     "output_type": "execute_result"
    }
   ],
   "source": [
    "# Specifying JSON_FILE filename (can include a folder)\n",
    "# include the search terms in the filename\n",
    "JSON_FILE = \"Data/results_in_progress_indianapolis_pizza.json\"\n",
    "JSON_FILE"
   ]
  },
  {
   "cell_type": "code",
   "execution_count": 5,
   "id": "b33aa30d",
   "metadata": {},
   "outputs": [
    {
     "name": "stdout",
     "output_type": "stream",
     "text": [
      "[i] Data/results_in_progress_indianapolis_pizza.json already exists.\n"
     ]
    }
   ],
   "source": [
    "## Check if JSON_FILE exists\n",
    "file_exists = os.path.isfile(JSON_FILE)\n",
    "## If it does not exist: \n",
    "if file_exists == False:\n",
    "    \n",
    "    ## CREATE ANY NEEDED FOLDERS\n",
    "    # Get the Folder Name only\n",
    "    folder = os.path.dirname(JSON_FILE)\n",
    "    ## If JSON_FILE included a folder:\n",
    "    if len(folder)>0:\n",
    "        # create the folder\n",
    "        os.makedirs(folder,exist_ok=True)\n",
    "        \n",
    "        \n",
    "    ## INFORM USER AND SAVE EMPTY LIST\n",
    "    print(f'[i] {JSON_FILE} not found. Saving empty list to file.')\n",
    "    \n",
    "    \n",
    "    # save an empty list\n",
    "    with open(JSON_FILE,'w') as f:\n",
    "        json.dump([],f)  \n",
    "# If it exists, inform user\n",
    "else:\n",
    "    print(f\"[i] {JSON_FILE} already exists.\")"
   ]
  },
  {
   "cell_type": "code",
   "execution_count": 6,
   "id": "49791289",
   "metadata": {},
   "outputs": [
    {
     "name": "stdout",
     "output_type": "stream",
     "text": [
      "- 440 previous results found.\n"
     ]
    }
   ],
   "source": [
    "## Load previous results and use len of results for offset\n",
    "with open(JSON_FILE,'r') as f:\n",
    "    previous_results = json.load(f)\n",
    "    \n",
    "## set offset based on previous results\n",
    "n_results = len(previous_results)\n",
    "print(f'- {n_results} previous results found.')"
   ]
  },
  {
   "cell_type": "code",
   "execution_count": 7,
   "id": "4d39117c",
   "metadata": {},
   "outputs": [
    {
     "name": "stdout",
     "output_type": "stream",
     "text": [
      "<class 'dict'>\n"
     ]
    },
    {
     "data": {
      "text/plain": [
       "dict_keys(['businesses', 'total', 'region'])"
      ]
     },
     "execution_count": 7,
     "metadata": {},
     "output_type": "execute_result"
    }
   ],
   "source": [
    "# Quick Test Query\n",
    "results = yelp_api.search_query(location=LOCATION,\n",
    "                                       term=TERM)\n",
    "print(type(results))\n",
    "results.keys()"
   ]
  },
  {
   "cell_type": "code",
   "execution_count": 8,
   "id": "5c3ad886",
   "metadata": {},
   "outputs": [],
   "source": [
    "# writing Indianapolis pizza location data onto a json file \n",
    "with open(JSON_FILE,'w') as f:\n",
    "    json.dump(results, f)\n",
    "# Load saved json file back to dictionary\n",
    "with open(JSON_FILE) as f:\n",
    "    loaded = json.load(f)"
   ]
  },
  {
   "cell_type": "code",
   "execution_count": 9,
   "id": "d388e5e5",
   "metadata": {},
   "outputs": [
    {
     "data": {
      "text/plain": [
       "dict_keys(['businesses', 'total', 'region'])"
      ]
     },
     "execution_count": 9,
     "metadata": {},
     "output_type": "execute_result"
    }
   ],
   "source": [
    "# checking to make sure json file dictionary keys are readable\n",
    "loaded.keys()"
   ]
  },
  {
   "cell_type": "code",
   "execution_count": 10,
   "id": "7b4d4782",
   "metadata": {},
   "outputs": [
    {
     "data": {
      "text/plain": [
       "20"
      ]
     },
     "execution_count": 10,
     "metadata": {},
     "output_type": "execute_result"
    }
   ],
   "source": [
    "len(loaded[\"businesses\"])"
   ]
  },
  {
   "cell_type": "code",
   "execution_count": 11,
   "id": "147edea4",
   "metadata": {},
   "outputs": [
    {
     "data": {
      "text/html": [
       "<div>\n",
       "<style scoped>\n",
       "    .dataframe tbody tr th:only-of-type {\n",
       "        vertical-align: middle;\n",
       "    }\n",
       "\n",
       "    .dataframe tbody tr th {\n",
       "        vertical-align: top;\n",
       "    }\n",
       "\n",
       "    .dataframe thead th {\n",
       "        text-align: right;\n",
       "    }\n",
       "</style>\n",
       "<table border=\"1\" class=\"dataframe\">\n",
       "  <thead>\n",
       "    <tr style=\"text-align: right;\">\n",
       "      <th></th>\n",
       "      <th>id</th>\n",
       "      <th>alias</th>\n",
       "      <th>name</th>\n",
       "      <th>image_url</th>\n",
       "      <th>is_closed</th>\n",
       "      <th>url</th>\n",
       "      <th>review_count</th>\n",
       "      <th>categories</th>\n",
       "      <th>rating</th>\n",
       "      <th>coordinates</th>\n",
       "      <th>transactions</th>\n",
       "      <th>price</th>\n",
       "      <th>location</th>\n",
       "      <th>phone</th>\n",
       "      <th>display_phone</th>\n",
       "      <th>distance</th>\n",
       "    </tr>\n",
       "  </thead>\n",
       "  <tbody>\n",
       "    <tr>\n",
       "      <th>0</th>\n",
       "      <td>wD0OY5AYINSCyCflHgd7Ag</td>\n",
       "      <td>futuro-indianapolis</td>\n",
       "      <td>Futuro</td>\n",
       "      <td>https://s3-media4.fl.yelpcdn.com/bphoto/h_sfLx...</td>\n",
       "      <td>False</td>\n",
       "      <td>https://www.yelp.com/biz/futuro-indianapolis?a...</td>\n",
       "      <td>192</td>\n",
       "      <td>[{'alias': 'pizza', 'title': 'Pizza'}]</td>\n",
       "      <td>5.0</td>\n",
       "      <td>{'latitude': 39.7675986, 'longitude': -86.1406...</td>\n",
       "      <td>[delivery, pickup]</td>\n",
       "      <td>$$</td>\n",
       "      <td>{'address1': '19 Cruse St', 'address2': '', 'a...</td>\n",
       "      <td>+13173604725</td>\n",
       "      <td>(317) 360-4725</td>\n",
       "      <td>4301.650116</td>\n",
       "    </tr>\n",
       "    <tr>\n",
       "      <th>1</th>\n",
       "      <td>C3Pf_LNFt1GeiRaYBRQhJg</td>\n",
       "      <td>pizza-palace-california-style-indianapolis</td>\n",
       "      <td>Pizza Palace California Style</td>\n",
       "      <td>https://s3-media2.fl.yelpcdn.com/bphoto/mdwRtt...</td>\n",
       "      <td>False</td>\n",
       "      <td>https://www.yelp.com/biz/pizza-palace-californ...</td>\n",
       "      <td>20</td>\n",
       "      <td>[{'alias': 'pizza', 'title': 'Pizza'}]</td>\n",
       "      <td>5.0</td>\n",
       "      <td>{'latitude': 39.897913, 'longitude': -86.217173}</td>\n",
       "      <td>[delivery, pickup]</td>\n",
       "      <td>NaN</td>\n",
       "      <td>{'address1': '7940 Michigan Rd', 'address2': '...</td>\n",
       "      <td>+13179749041</td>\n",
       "      <td>(317) 974-9041</td>\n",
       "      <td>12210.440284</td>\n",
       "    </tr>\n",
       "    <tr>\n",
       "      <th>2</th>\n",
       "      <td>yI-ahfduU45_bZa3ZgEx4w</td>\n",
       "      <td>jockamo-upper-crust-pizza-indianapolis</td>\n",
       "      <td>Jockamo Upper Crust Pizza</td>\n",
       "      <td>https://s3-media1.fl.yelpcdn.com/bphoto/lUW4ck...</td>\n",
       "      <td>False</td>\n",
       "      <td>https://www.yelp.com/biz/jockamo-upper-crust-p...</td>\n",
       "      <td>675</td>\n",
       "      <td>[{'alias': 'pizza', 'title': 'Pizza'}, {'alias...</td>\n",
       "      <td>4.5</td>\n",
       "      <td>{'latitude': 39.771, 'longitude': -86.07055}</td>\n",
       "      <td>[delivery]</td>\n",
       "      <td>$$</td>\n",
       "      <td>{'address1': '5646 E Washington St', 'address2...</td>\n",
       "      <td>+13173566612</td>\n",
       "      <td>(317) 356-6612</td>\n",
       "      <td>6981.678615</td>\n",
       "    </tr>\n",
       "    <tr>\n",
       "      <th>3</th>\n",
       "      <td>pDghOix5B17eZTtjDsQ4_A</td>\n",
       "      <td>king-dough-indy-indianapolis</td>\n",
       "      <td>King Dough Indy</td>\n",
       "      <td>https://s3-media3.fl.yelpcdn.com/bphoto/Xl5u1c...</td>\n",
       "      <td>False</td>\n",
       "      <td>https://www.yelp.com/biz/king-dough-indy-india...</td>\n",
       "      <td>440</td>\n",
       "      <td>[{'alias': 'pizza', 'title': 'Pizza'}, {'alias...</td>\n",
       "      <td>4.5</td>\n",
       "      <td>{'latitude': 39.7739378, 'longitude': -86.1374...</td>\n",
       "      <td>[delivery, pickup]</td>\n",
       "      <td>$$</td>\n",
       "      <td>{'address1': '452 N Highland Ave', 'address2':...</td>\n",
       "      <td>+13176027960</td>\n",
       "      <td>(317) 602-7960</td>\n",
       "      <td>3593.069780</td>\n",
       "    </tr>\n",
       "    <tr>\n",
       "      <th>4</th>\n",
       "      <td>Y6bKMtyK02vhA5doR_z7qA</td>\n",
       "      <td>greek-s-pizzeria-indianapolis-indianapolis</td>\n",
       "      <td>Greek’s Pizzeria-  Indianapolis</td>\n",
       "      <td>https://s3-media3.fl.yelpcdn.com/bphoto/4Ni2fc...</td>\n",
       "      <td>False</td>\n",
       "      <td>https://www.yelp.com/biz/greek-s-pizzeria-indi...</td>\n",
       "      <td>96</td>\n",
       "      <td>[{'alias': 'pizza', 'title': 'Pizza'}, {'alias...</td>\n",
       "      <td>4.5</td>\n",
       "      <td>{'latitude': 39.78867, 'longitude': -86.13631}</td>\n",
       "      <td>[delivery]</td>\n",
       "      <td>NaN</td>\n",
       "      <td>{'address1': '1601 Columbia Ave', 'address2': ...</td>\n",
       "      <td>+13176026833</td>\n",
       "      <td>(317) 602-6833</td>\n",
       "      <td>1962.026949</td>\n",
       "    </tr>\n",
       "  </tbody>\n",
       "</table>\n",
       "</div>"
      ],
      "text/plain": [
       "                       id                                       alias  \\\n",
       "0  wD0OY5AYINSCyCflHgd7Ag                         futuro-indianapolis   \n",
       "1  C3Pf_LNFt1GeiRaYBRQhJg  pizza-palace-california-style-indianapolis   \n",
       "2  yI-ahfduU45_bZa3ZgEx4w      jockamo-upper-crust-pizza-indianapolis   \n",
       "3  pDghOix5B17eZTtjDsQ4_A                king-dough-indy-indianapolis   \n",
       "4  Y6bKMtyK02vhA5doR_z7qA  greek-s-pizzeria-indianapolis-indianapolis   \n",
       "\n",
       "                              name  \\\n",
       "0                           Futuro   \n",
       "1    Pizza Palace California Style   \n",
       "2        Jockamo Upper Crust Pizza   \n",
       "3                  King Dough Indy   \n",
       "4  Greek’s Pizzeria-  Indianapolis   \n",
       "\n",
       "                                           image_url  is_closed  \\\n",
       "0  https://s3-media4.fl.yelpcdn.com/bphoto/h_sfLx...      False   \n",
       "1  https://s3-media2.fl.yelpcdn.com/bphoto/mdwRtt...      False   \n",
       "2  https://s3-media1.fl.yelpcdn.com/bphoto/lUW4ck...      False   \n",
       "3  https://s3-media3.fl.yelpcdn.com/bphoto/Xl5u1c...      False   \n",
       "4  https://s3-media3.fl.yelpcdn.com/bphoto/4Ni2fc...      False   \n",
       "\n",
       "                                                 url  review_count  \\\n",
       "0  https://www.yelp.com/biz/futuro-indianapolis?a...           192   \n",
       "1  https://www.yelp.com/biz/pizza-palace-californ...            20   \n",
       "2  https://www.yelp.com/biz/jockamo-upper-crust-p...           675   \n",
       "3  https://www.yelp.com/biz/king-dough-indy-india...           440   \n",
       "4  https://www.yelp.com/biz/greek-s-pizzeria-indi...            96   \n",
       "\n",
       "                                          categories  rating  \\\n",
       "0             [{'alias': 'pizza', 'title': 'Pizza'}]     5.0   \n",
       "1             [{'alias': 'pizza', 'title': 'Pizza'}]     5.0   \n",
       "2  [{'alias': 'pizza', 'title': 'Pizza'}, {'alias...     4.5   \n",
       "3  [{'alias': 'pizza', 'title': 'Pizza'}, {'alias...     4.5   \n",
       "4  [{'alias': 'pizza', 'title': 'Pizza'}, {'alias...     4.5   \n",
       "\n",
       "                                         coordinates        transactions  \\\n",
       "0  {'latitude': 39.7675986, 'longitude': -86.1406...  [delivery, pickup]   \n",
       "1   {'latitude': 39.897913, 'longitude': -86.217173}  [delivery, pickup]   \n",
       "2       {'latitude': 39.771, 'longitude': -86.07055}          [delivery]   \n",
       "3  {'latitude': 39.7739378, 'longitude': -86.1374...  [delivery, pickup]   \n",
       "4     {'latitude': 39.78867, 'longitude': -86.13631}          [delivery]   \n",
       "\n",
       "  price                                           location         phone  \\\n",
       "0    $$  {'address1': '19 Cruse St', 'address2': '', 'a...  +13173604725   \n",
       "1   NaN  {'address1': '7940 Michigan Rd', 'address2': '...  +13179749041   \n",
       "2    $$  {'address1': '5646 E Washington St', 'address2...  +13173566612   \n",
       "3    $$  {'address1': '452 N Highland Ave', 'address2':...  +13176027960   \n",
       "4   NaN  {'address1': '1601 Columbia Ave', 'address2': ...  +13176026833   \n",
       "\n",
       "    display_phone      distance  \n",
       "0  (317) 360-4725   4301.650116  \n",
       "1  (317) 974-9041  12210.440284  \n",
       "2  (317) 356-6612   6981.678615  \n",
       "3  (317) 602-7960   3593.069780  \n",
       "4  (317) 602-6833   1962.026949  "
      ]
     },
     "execution_count": 11,
     "metadata": {},
     "output_type": "execute_result"
    }
   ],
   "source": [
    "df_businesses = pd.DataFrame(loaded['businesses'])\n",
    "df_businesses.head()"
   ]
  },
  {
   "cell_type": "code",
   "execution_count": 12,
   "id": "249b0fec",
   "metadata": {},
   "outputs": [
    {
     "data": {
      "text/html": [
       "<div>\n",
       "<style scoped>\n",
       "    .dataframe tbody tr th:only-of-type {\n",
       "        vertical-align: middle;\n",
       "    }\n",
       "\n",
       "    .dataframe tbody tr th {\n",
       "        vertical-align: top;\n",
       "    }\n",
       "\n",
       "    .dataframe thead th {\n",
       "        text-align: right;\n",
       "    }\n",
       "</style>\n",
       "<table border=\"1\" class=\"dataframe\">\n",
       "  <thead>\n",
       "    <tr style=\"text-align: right;\">\n",
       "      <th></th>\n",
       "      <th>categories</th>\n",
       "      <th>coordinates</th>\n",
       "      <th>location</th>\n",
       "    </tr>\n",
       "  </thead>\n",
       "  <tbody>\n",
       "    <tr>\n",
       "      <th>0</th>\n",
       "      <td>[{'alias': 'pizza', 'title': 'Pizza'}]</td>\n",
       "      <td>{'latitude': 39.7675986, 'longitude': -86.1406...</td>\n",
       "      <td>{'address1': '19 Cruse St', 'address2': '', 'a...</td>\n",
       "    </tr>\n",
       "    <tr>\n",
       "      <th>1</th>\n",
       "      <td>[{'alias': 'pizza', 'title': 'Pizza'}]</td>\n",
       "      <td>{'latitude': 39.897913, 'longitude': -86.217173}</td>\n",
       "      <td>{'address1': '7940 Michigan Rd', 'address2': '...</td>\n",
       "    </tr>\n",
       "    <tr>\n",
       "      <th>2</th>\n",
       "      <td>[{'alias': 'pizza', 'title': 'Pizza'}, {'alias...</td>\n",
       "      <td>{'latitude': 39.771, 'longitude': -86.07055}</td>\n",
       "      <td>{'address1': '5646 E Washington St', 'address2...</td>\n",
       "    </tr>\n",
       "    <tr>\n",
       "      <th>3</th>\n",
       "      <td>[{'alias': 'pizza', 'title': 'Pizza'}, {'alias...</td>\n",
       "      <td>{'latitude': 39.7739378, 'longitude': -86.1374...</td>\n",
       "      <td>{'address1': '452 N Highland Ave', 'address2':...</td>\n",
       "    </tr>\n",
       "    <tr>\n",
       "      <th>4</th>\n",
       "      <td>[{'alias': 'pizza', 'title': 'Pizza'}, {'alias...</td>\n",
       "      <td>{'latitude': 39.78867, 'longitude': -86.13631}</td>\n",
       "      <td>{'address1': '1601 Columbia Ave', 'address2': ...</td>\n",
       "    </tr>\n",
       "  </tbody>\n",
       "</table>\n",
       "</div>"
      ],
      "text/plain": [
       "                                          categories  \\\n",
       "0             [{'alias': 'pizza', 'title': 'Pizza'}]   \n",
       "1             [{'alias': 'pizza', 'title': 'Pizza'}]   \n",
       "2  [{'alias': 'pizza', 'title': 'Pizza'}, {'alias...   \n",
       "3  [{'alias': 'pizza', 'title': 'Pizza'}, {'alias...   \n",
       "4  [{'alias': 'pizza', 'title': 'Pizza'}, {'alias...   \n",
       "\n",
       "                                         coordinates  \\\n",
       "0  {'latitude': 39.7675986, 'longitude': -86.1406...   \n",
       "1   {'latitude': 39.897913, 'longitude': -86.217173}   \n",
       "2       {'latitude': 39.771, 'longitude': -86.07055}   \n",
       "3  {'latitude': 39.7739378, 'longitude': -86.1374...   \n",
       "4     {'latitude': 39.78867, 'longitude': -86.13631}   \n",
       "\n",
       "                                            location  \n",
       "0  {'address1': '19 Cruse St', 'address2': '', 'a...  \n",
       "1  {'address1': '7940 Michigan Rd', 'address2': '...  \n",
       "2  {'address1': '5646 E Washington St', 'address2...  \n",
       "3  {'address1': '452 N Highland Ave', 'address2':...  \n",
       "4  {'address1': '1601 Columbia Ave', 'address2': ...  "
      ]
     },
     "execution_count": 12,
     "metadata": {},
     "output_type": "execute_result"
    }
   ],
   "source": [
    "df_businesses[['categories','coordinates','location']].head()"
   ]
  },
  {
   "cell_type": "code",
   "execution_count": 31,
   "id": "cc114dfe",
   "metadata": {},
   "outputs": [
    {
     "data": {
      "text/plain": [
       "1500"
      ]
     },
     "execution_count": 31,
     "metadata": {},
     "output_type": "execute_result"
    }
   ],
   "source": [
    "## How many results total?\n",
    "total_results = results['total']\n",
    "total_results"
   ]
  },
  {
   "cell_type": "code",
   "execution_count": 32,
   "id": "61e3889a",
   "metadata": {},
   "outputs": [
    {
     "data": {
      "text/plain": [
       "20"
      ]
     },
     "execution_count": 32,
     "metadata": {},
     "output_type": "execute_result"
    }
   ],
   "source": [
    "## How many did we get the details for?\n",
    "results_per_page = len(results['businesses'])\n",
    "results_per_page"
   ]
  },
  {
   "cell_type": "code",
   "execution_count": 33,
   "id": "5f36ddcd",
   "metadata": {},
   "outputs": [
    {
     "data": {
      "text/plain": [
       "53"
      ]
     },
     "execution_count": 33,
     "metadata": {},
     "output_type": "execute_result"
    }
   ],
   "source": [
    "# Use math.ceil to round up for the total number of pages of results.\n",
    "n_pages = math.ceil((results['total']-n_results)/ results_per_page)\n",
    "n_pages"
   ]
  },
  {
   "cell_type": "code",
   "execution_count": 34,
   "id": "109c7998",
   "metadata": {},
   "outputs": [],
   "source": [
    "# join new results with old list with extend and save to file\n",
    "previous_results.extend(results['businesses'])  \n",
    "with open(JSON_FILE,'w') as f:\n",
    "     json.dump(previous_results,f)"
   ]
  },
  {
   "cell_type": "code",
   "execution_count": 35,
   "id": "6193f833",
   "metadata": {},
   "outputs": [
    {
     "data": {
      "text/plain": [
       "False"
      ]
     },
     "execution_count": 35,
     "metadata": {},
     "output_type": "execute_result"
    }
   ],
   "source": [
    "## delete file and confirm it no longer exits.\n",
    "os.remove(JSON_FILE)\n",
    "os.path.isfile(JSON_FILE)"
   ]
  },
  {
   "cell_type": "code",
   "execution_count": 38,
   "id": "ceb69ddb",
   "metadata": {},
   "outputs": [],
   "source": [
    "def create_json_file(JSON_FILE,  delete_if_exists=False):\n",
    "    \n",
    "    ## Check if JSON_FILE exists\n",
    "    file_exists = os.path.isfile(JSON_FILE)\n",
    "    \n",
    "    ## If it DOES exist:\n",
    "    if file_exists == True:\n",
    "\n",
    "        ## Check if user wants to delete if exists\n",
    "        if delete_if_exists==True:\n",
    "\n",
    "            print(f\"[!] {JSON_FILE} already exists. Deleting previous file...\")\n",
    "            ## delete file and confirm it no longer exits.\n",
    "            os.remove(JSON_FILE)\n",
    "            ## Recursive call to function after old file deleted\n",
    "            create_json_file(JSON_FILE,delete_if_exists=False)\n",
    "        else:\n",
    "            print(f\"[i] {JSON_FILE} already exists.\")            \n",
    "            \n",
    "            \n",
    "    ## If it does NOT exist:\n",
    "    else:\n",
    "        \n",
    "        ## INFORM USER AND SAVE EMPTY LIST\n",
    "        print(f\"[i] {JSON_FILE} not found. Saving empty list to new file.\")\n",
    "        \n",
    "        ## CREATE ANY NEEDED FOLDERS\n",
    "        # Get the Folder Name only\n",
    "        folder = os.path.dirname(JSON_FILE)\n",
    "        \n",
    "        ## If JSON_FILE included a folder:\n",
    "        if len(folder)>0:\n",
    "            # create the folder\n",
    "            os.makedirs(folder,exist_ok=True)\n",
    "        ## Save empty list to start the json file\n",
    "        with open(JSON_FILE,'w') as f:\n",
    "            json.dump([],f)  "
   ]
  },
  {
   "cell_type": "code",
   "execution_count": 39,
   "id": "18c2326c",
   "metadata": {},
   "outputs": [
    {
     "name": "stdout",
     "output_type": "stream",
     "text": [
      "[i] Data/results_in_progress_indianapolis_pizza.json not found. Saving empty list to new file.\n",
      "- 0 previous results found.\n"
     ]
    },
    {
     "data": {
      "text/plain": [
       "75"
      ]
     },
     "execution_count": 39,
     "metadata": {},
     "output_type": "execute_result"
    }
   ],
   "source": [
    "## Create a new empty json file (exist the previous if it exists)\n",
    "create_json_file(JSON_FILE, delete_if_exists=True)\n",
    "## Load previous results and use len of results for offset\n",
    "with open(JSON_FILE,'r') as f:\n",
    "    previous_results = json.load(f)\n",
    "    \n",
    "## set offset based on previous results\n",
    "n_results = len(previous_results)\n",
    "print(f'- {n_results} previous results found.')\n",
    "# use our yelp_api variable's search_query method to perform our API call\n",
    "results = yelp_api.search_query(location=LOCATION,\n",
    "                                term=TERM,\n",
    "                               offset=n_results)\n",
    "## How many results total?\n",
    "total_results = results['total']\n",
    "## How many did we get the details for?\n",
    "results_per_page = len(results['businesses'])\n",
    "# Use math.ceil to round up for the total number of pages of results.\n",
    "n_pages = math.ceil((results['total']-n_results)/ results_per_page)\n",
    "n_pages"
   ]
  },
  {
   "cell_type": "code",
   "execution_count": 40,
   "id": "69cc7806",
   "metadata": {},
   "outputs": [
    {
     "data": {
      "application/vnd.jupyter.widget-view+json": {
       "model_id": "efec39e2b5db45b6a0e09e0ea6a9770d",
       "version_major": 2,
       "version_minor": 0
      },
      "text/plain": [
       "  0%|          | 0/75 [00:00<?, ?it/s]"
      ]
     },
     "metadata": {},
     "output_type": "display_data"
    },
    {
     "name": "stdout",
     "output_type": "stream",
     "text": [
      "Exceeded 1000 api calls. Stopping loop.\n"
     ]
    }
   ],
   "source": [
    "for i in tqdm_notebook( range(1,n_pages+1)):\n",
    "    \n",
    "    ## Read in results in progress file and check the length\n",
    "    with open(JSON_FILE, 'r') as f:\n",
    "        previous_results = json.load(f)\n",
    "    ## save number of results for to use as offset\n",
    "    n_results = len(previous_results)\n",
    "    \n",
    "    if (n_results + results_per_page) > 1000:\n",
    "        print('Exceeded 1000 api calls. Stopping loop.')\n",
    "        break\n",
    "    \n",
    "    ## use n_results as the OFFSET \n",
    "    results = yelp_api.search_query(location=LOCATION,\n",
    "                                    term=TERM, \n",
    "                                    offset=n_results)\n",
    "    \n",
    "    \n",
    "    \n",
    "    ## append new results and save to file\n",
    "    previous_results.extend(results['businesses'])\n",
    "    \n",
    "    # display(previous_results)\n",
    "    with open(JSON_FILE,'w') as f:\n",
    "        json.dump(previous_results,f)\n",
    "    \n",
    "    time.sleep(.2)"
   ]
  },
  {
   "cell_type": "code",
   "execution_count": 41,
   "id": "38c0d546",
   "metadata": {},
   "outputs": [
    {
     "data": {
      "text/html": [
       "<div>\n",
       "<style scoped>\n",
       "    .dataframe tbody tr th:only-of-type {\n",
       "        vertical-align: middle;\n",
       "    }\n",
       "\n",
       "    .dataframe tbody tr th {\n",
       "        vertical-align: top;\n",
       "    }\n",
       "\n",
       "    .dataframe thead th {\n",
       "        text-align: right;\n",
       "    }\n",
       "</style>\n",
       "<table border=\"1\" class=\"dataframe\">\n",
       "  <thead>\n",
       "    <tr style=\"text-align: right;\">\n",
       "      <th></th>\n",
       "      <th>id</th>\n",
       "      <th>alias</th>\n",
       "      <th>name</th>\n",
       "      <th>image_url</th>\n",
       "      <th>is_closed</th>\n",
       "      <th>url</th>\n",
       "      <th>review_count</th>\n",
       "      <th>categories</th>\n",
       "      <th>rating</th>\n",
       "      <th>coordinates</th>\n",
       "      <th>transactions</th>\n",
       "      <th>price</th>\n",
       "      <th>location</th>\n",
       "      <th>phone</th>\n",
       "      <th>display_phone</th>\n",
       "      <th>distance</th>\n",
       "    </tr>\n",
       "  </thead>\n",
       "  <tbody>\n",
       "    <tr>\n",
       "      <th>0</th>\n",
       "      <td>wD0OY5AYINSCyCflHgd7Ag</td>\n",
       "      <td>futuro-indianapolis</td>\n",
       "      <td>Futuro</td>\n",
       "      <td>https://s3-media4.fl.yelpcdn.com/bphoto/h_sfLx...</td>\n",
       "      <td>False</td>\n",
       "      <td>https://www.yelp.com/biz/futuro-indianapolis?a...</td>\n",
       "      <td>192</td>\n",
       "      <td>[{'alias': 'pizza', 'title': 'Pizza'}]</td>\n",
       "      <td>5.0</td>\n",
       "      <td>{'latitude': 39.7675986, 'longitude': -86.1406...</td>\n",
       "      <td>[pickup, delivery]</td>\n",
       "      <td>$$</td>\n",
       "      <td>{'address1': '19 Cruse St', 'address2': '', 'a...</td>\n",
       "      <td>+13173604725</td>\n",
       "      <td>(317) 360-4725</td>\n",
       "      <td>4301.650116</td>\n",
       "    </tr>\n",
       "    <tr>\n",
       "      <th>1</th>\n",
       "      <td>C3Pf_LNFt1GeiRaYBRQhJg</td>\n",
       "      <td>pizza-palace-california-style-indianapolis</td>\n",
       "      <td>Pizza Palace California Style</td>\n",
       "      <td>https://s3-media2.fl.yelpcdn.com/bphoto/mdwRtt...</td>\n",
       "      <td>False</td>\n",
       "      <td>https://www.yelp.com/biz/pizza-palace-californ...</td>\n",
       "      <td>20</td>\n",
       "      <td>[{'alias': 'pizza', 'title': 'Pizza'}]</td>\n",
       "      <td>5.0</td>\n",
       "      <td>{'latitude': 39.897913, 'longitude': -86.217173}</td>\n",
       "      <td>[pickup, delivery]</td>\n",
       "      <td>NaN</td>\n",
       "      <td>{'address1': '7940 Michigan Rd', 'address2': '...</td>\n",
       "      <td>+13179749041</td>\n",
       "      <td>(317) 974-9041</td>\n",
       "      <td>12210.440284</td>\n",
       "    </tr>\n",
       "    <tr>\n",
       "      <th>2</th>\n",
       "      <td>yI-ahfduU45_bZa3ZgEx4w</td>\n",
       "      <td>jockamo-upper-crust-pizza-indianapolis</td>\n",
       "      <td>Jockamo Upper Crust Pizza</td>\n",
       "      <td>https://s3-media1.fl.yelpcdn.com/bphoto/lUW4ck...</td>\n",
       "      <td>False</td>\n",
       "      <td>https://www.yelp.com/biz/jockamo-upper-crust-p...</td>\n",
       "      <td>675</td>\n",
       "      <td>[{'alias': 'pizza', 'title': 'Pizza'}, {'alias...</td>\n",
       "      <td>4.5</td>\n",
       "      <td>{'latitude': 39.771, 'longitude': -86.07055}</td>\n",
       "      <td>[delivery]</td>\n",
       "      <td>$$</td>\n",
       "      <td>{'address1': '5646 E Washington St', 'address2...</td>\n",
       "      <td>+13173566612</td>\n",
       "      <td>(317) 356-6612</td>\n",
       "      <td>6981.678615</td>\n",
       "    </tr>\n",
       "    <tr>\n",
       "      <th>3</th>\n",
       "      <td>pDghOix5B17eZTtjDsQ4_A</td>\n",
       "      <td>king-dough-indy-indianapolis</td>\n",
       "      <td>King Dough Indy</td>\n",
       "      <td>https://s3-media3.fl.yelpcdn.com/bphoto/Xl5u1c...</td>\n",
       "      <td>False</td>\n",
       "      <td>https://www.yelp.com/biz/king-dough-indy-india...</td>\n",
       "      <td>440</td>\n",
       "      <td>[{'alias': 'pizza', 'title': 'Pizza'}, {'alias...</td>\n",
       "      <td>4.5</td>\n",
       "      <td>{'latitude': 39.7739378, 'longitude': -86.1374...</td>\n",
       "      <td>[pickup, delivery]</td>\n",
       "      <td>$$</td>\n",
       "      <td>{'address1': '452 N Highland Ave', 'address2':...</td>\n",
       "      <td>+13176027960</td>\n",
       "      <td>(317) 602-7960</td>\n",
       "      <td>3593.069780</td>\n",
       "    </tr>\n",
       "    <tr>\n",
       "      <th>4</th>\n",
       "      <td>Y6bKMtyK02vhA5doR_z7qA</td>\n",
       "      <td>greek-s-pizzeria-indianapolis-indianapolis</td>\n",
       "      <td>Greek’s Pizzeria-  Indianapolis</td>\n",
       "      <td>https://s3-media3.fl.yelpcdn.com/bphoto/4Ni2fc...</td>\n",
       "      <td>False</td>\n",
       "      <td>https://www.yelp.com/biz/greek-s-pizzeria-indi...</td>\n",
       "      <td>96</td>\n",
       "      <td>[{'alias': 'pizza', 'title': 'Pizza'}, {'alias...</td>\n",
       "      <td>4.5</td>\n",
       "      <td>{'latitude': 39.78867, 'longitude': -86.13631}</td>\n",
       "      <td>[delivery]</td>\n",
       "      <td>NaN</td>\n",
       "      <td>{'address1': '1601 Columbia Ave', 'address2': ...</td>\n",
       "      <td>+13176026833</td>\n",
       "      <td>(317) 602-6833</td>\n",
       "      <td>1962.026949</td>\n",
       "    </tr>\n",
       "  </tbody>\n",
       "</table>\n",
       "</div>"
      ],
      "text/plain": [
       "                       id                                       alias  \\\n",
       "0  wD0OY5AYINSCyCflHgd7Ag                         futuro-indianapolis   \n",
       "1  C3Pf_LNFt1GeiRaYBRQhJg  pizza-palace-california-style-indianapolis   \n",
       "2  yI-ahfduU45_bZa3ZgEx4w      jockamo-upper-crust-pizza-indianapolis   \n",
       "3  pDghOix5B17eZTtjDsQ4_A                king-dough-indy-indianapolis   \n",
       "4  Y6bKMtyK02vhA5doR_z7qA  greek-s-pizzeria-indianapolis-indianapolis   \n",
       "\n",
       "                              name  \\\n",
       "0                           Futuro   \n",
       "1    Pizza Palace California Style   \n",
       "2        Jockamo Upper Crust Pizza   \n",
       "3                  King Dough Indy   \n",
       "4  Greek’s Pizzeria-  Indianapolis   \n",
       "\n",
       "                                           image_url  is_closed  \\\n",
       "0  https://s3-media4.fl.yelpcdn.com/bphoto/h_sfLx...      False   \n",
       "1  https://s3-media2.fl.yelpcdn.com/bphoto/mdwRtt...      False   \n",
       "2  https://s3-media1.fl.yelpcdn.com/bphoto/lUW4ck...      False   \n",
       "3  https://s3-media3.fl.yelpcdn.com/bphoto/Xl5u1c...      False   \n",
       "4  https://s3-media3.fl.yelpcdn.com/bphoto/4Ni2fc...      False   \n",
       "\n",
       "                                                 url  review_count  \\\n",
       "0  https://www.yelp.com/biz/futuro-indianapolis?a...           192   \n",
       "1  https://www.yelp.com/biz/pizza-palace-californ...            20   \n",
       "2  https://www.yelp.com/biz/jockamo-upper-crust-p...           675   \n",
       "3  https://www.yelp.com/biz/king-dough-indy-india...           440   \n",
       "4  https://www.yelp.com/biz/greek-s-pizzeria-indi...            96   \n",
       "\n",
       "                                          categories  rating  \\\n",
       "0             [{'alias': 'pizza', 'title': 'Pizza'}]     5.0   \n",
       "1             [{'alias': 'pizza', 'title': 'Pizza'}]     5.0   \n",
       "2  [{'alias': 'pizza', 'title': 'Pizza'}, {'alias...     4.5   \n",
       "3  [{'alias': 'pizza', 'title': 'Pizza'}, {'alias...     4.5   \n",
       "4  [{'alias': 'pizza', 'title': 'Pizza'}, {'alias...     4.5   \n",
       "\n",
       "                                         coordinates        transactions  \\\n",
       "0  {'latitude': 39.7675986, 'longitude': -86.1406...  [pickup, delivery]   \n",
       "1   {'latitude': 39.897913, 'longitude': -86.217173}  [pickup, delivery]   \n",
       "2       {'latitude': 39.771, 'longitude': -86.07055}          [delivery]   \n",
       "3  {'latitude': 39.7739378, 'longitude': -86.1374...  [pickup, delivery]   \n",
       "4     {'latitude': 39.78867, 'longitude': -86.13631}          [delivery]   \n",
       "\n",
       "  price                                           location         phone  \\\n",
       "0    $$  {'address1': '19 Cruse St', 'address2': '', 'a...  +13173604725   \n",
       "1   NaN  {'address1': '7940 Michigan Rd', 'address2': '...  +13179749041   \n",
       "2    $$  {'address1': '5646 E Washington St', 'address2...  +13173566612   \n",
       "3    $$  {'address1': '452 N Highland Ave', 'address2':...  +13176027960   \n",
       "4   NaN  {'address1': '1601 Columbia Ave', 'address2': ...  +13176026833   \n",
       "\n",
       "    display_phone      distance  \n",
       "0  (317) 360-4725   4301.650116  \n",
       "1  (317) 974-9041  12210.440284  \n",
       "2  (317) 356-6612   6981.678615  \n",
       "3  (317) 602-7960   3593.069780  \n",
       "4  (317) 602-6833   1962.026949  "
      ]
     },
     "metadata": {},
     "output_type": "display_data"
    },
    {
     "data": {
      "text/html": [
       "<div>\n",
       "<style scoped>\n",
       "    .dataframe tbody tr th:only-of-type {\n",
       "        vertical-align: middle;\n",
       "    }\n",
       "\n",
       "    .dataframe tbody tr th {\n",
       "        vertical-align: top;\n",
       "    }\n",
       "\n",
       "    .dataframe thead th {\n",
       "        text-align: right;\n",
       "    }\n",
       "</style>\n",
       "<table border=\"1\" class=\"dataframe\">\n",
       "  <thead>\n",
       "    <tr style=\"text-align: right;\">\n",
       "      <th></th>\n",
       "      <th>id</th>\n",
       "      <th>alias</th>\n",
       "      <th>name</th>\n",
       "      <th>image_url</th>\n",
       "      <th>is_closed</th>\n",
       "      <th>url</th>\n",
       "      <th>review_count</th>\n",
       "      <th>categories</th>\n",
       "      <th>rating</th>\n",
       "      <th>coordinates</th>\n",
       "      <th>transactions</th>\n",
       "      <th>price</th>\n",
       "      <th>location</th>\n",
       "      <th>phone</th>\n",
       "      <th>display_phone</th>\n",
       "      <th>distance</th>\n",
       "    </tr>\n",
       "  </thead>\n",
       "  <tbody>\n",
       "    <tr>\n",
       "      <th>995</th>\n",
       "      <td>DzLWIdOgeEdCodM27X6eGg</td>\n",
       "      <td>el-valle-minimarket-indianapolis</td>\n",
       "      <td>El Valle Minimarket</td>\n",
       "      <td>https://s3-media2.fl.yelpcdn.com/bphoto/PCKddA...</td>\n",
       "      <td>False</td>\n",
       "      <td>https://www.yelp.com/biz/el-valle-minimarket-i...</td>\n",
       "      <td>14</td>\n",
       "      <td>[{'alias': 'mexican', 'title': 'Mexican'}, {'a...</td>\n",
       "      <td>4.5</td>\n",
       "      <td>{'latitude': 39.6586, 'longitude': -86.1254}</td>\n",
       "      <td>[delivery]</td>\n",
       "      <td>NaN</td>\n",
       "      <td>{'address1': '7482 Madison Ave', 'address2': N...</td>\n",
       "      <td>+13177569187</td>\n",
       "      <td>(317) 756-9187</td>\n",
       "      <td>16504.139557</td>\n",
       "    </tr>\n",
       "    <tr>\n",
       "      <th>996</th>\n",
       "      <td>YbkKJ1AqDnG7rdMkDXktpQ</td>\n",
       "      <td>little-caesars-avon-2</td>\n",
       "      <td>Little Caesars</td>\n",
       "      <td>https://s3-media2.fl.yelpcdn.com/bphoto/2lc5Ap...</td>\n",
       "      <td>False</td>\n",
       "      <td>https://www.yelp.com/biz/little-caesars-avon-2...</td>\n",
       "      <td>3</td>\n",
       "      <td>[{'alias': 'pizza', 'title': 'Pizza'}]</td>\n",
       "      <td>2.5</td>\n",
       "      <td>{'latitude': 39.7638349, 'longitude': -86.3272...</td>\n",
       "      <td>[]</td>\n",
       "      <td>$</td>\n",
       "      <td>{'address1': '10976 US Hwy 36', 'address2': ''...</td>\n",
       "      <td>+13172099995</td>\n",
       "      <td>(317) 209-9995</td>\n",
       "      <td>16793.179898</td>\n",
       "    </tr>\n",
       "    <tr>\n",
       "      <th>997</th>\n",
       "      <td>MvWBAo164qmZGu_04b08vw</td>\n",
       "      <td>bamboo-house-indianapolis-2</td>\n",
       "      <td>Bamboo House</td>\n",
       "      <td>https://s3-media2.fl.yelpcdn.com/bphoto/ae9kjs...</td>\n",
       "      <td>False</td>\n",
       "      <td>https://www.yelp.com/biz/bamboo-house-indianap...</td>\n",
       "      <td>81</td>\n",
       "      <td>[{'alias': 'chinese', 'title': 'Chinese'}]</td>\n",
       "      <td>3.5</td>\n",
       "      <td>{'latitude': 39.8494606, 'longitude': -86.1231...</td>\n",
       "      <td>[delivery, pickup]</td>\n",
       "      <td>$</td>\n",
       "      <td>{'address1': '2330 E 53rd St', 'address2': '',...</td>\n",
       "      <td>+13172518080</td>\n",
       "      <td>(317) 251-8080</td>\n",
       "      <td>4981.904568</td>\n",
       "    </tr>\n",
       "    <tr>\n",
       "      <th>998</th>\n",
       "      <td>qJAWrsvNv74KYAoo6TAj0A</td>\n",
       "      <td>long-s-bakery-indianapolis</td>\n",
       "      <td>Long’s Bakery</td>\n",
       "      <td>https://s3-media1.fl.yelpcdn.com/bphoto/29xvrY...</td>\n",
       "      <td>False</td>\n",
       "      <td>https://www.yelp.com/biz/long-s-bakery-indiana...</td>\n",
       "      <td>366</td>\n",
       "      <td>[{'alias': 'bakeries', 'title': 'Bakeries'}]</td>\n",
       "      <td>4.5</td>\n",
       "      <td>{'latitude': 39.664815837887524, 'longitude': ...</td>\n",
       "      <td>[]</td>\n",
       "      <td>$</td>\n",
       "      <td>{'address1': '2301 E Southport Rd', 'address2'...</td>\n",
       "      <td>+13177831442</td>\n",
       "      <td>(317) 783-1442</td>\n",
       "      <td>15790.119889</td>\n",
       "    </tr>\n",
       "    <tr>\n",
       "      <th>999</th>\n",
       "      <td>rMfI2VVaZoDgF-GYdvOw8A</td>\n",
       "      <td>wings-and-kabob-indianapolis-2</td>\n",
       "      <td>Wings &amp; Kabob</td>\n",
       "      <td>https://s3-media1.fl.yelpcdn.com/bphoto/aoigS9...</td>\n",
       "      <td>False</td>\n",
       "      <td>https://www.yelp.com/biz/wings-and-kabob-india...</td>\n",
       "      <td>24</td>\n",
       "      <td>[{'alias': 'chicken_wings', 'title': 'Chicken ...</td>\n",
       "      <td>4.5</td>\n",
       "      <td>{'latitude': 39.88333, 'longitude': -86.208414}</td>\n",
       "      <td>[delivery, pickup]</td>\n",
       "      <td>NaN</td>\n",
       "      <td>{'address1': '7133 Michigan Rd', 'address2': N...</td>\n",
       "      <td>+13179815692</td>\n",
       "      <td>(317) 981-5692</td>\n",
       "      <td>10454.500558</td>\n",
       "    </tr>\n",
       "  </tbody>\n",
       "</table>\n",
       "</div>"
      ],
      "text/plain": [
       "                         id                             alias  \\\n",
       "995  DzLWIdOgeEdCodM27X6eGg  el-valle-minimarket-indianapolis   \n",
       "996  YbkKJ1AqDnG7rdMkDXktpQ             little-caesars-avon-2   \n",
       "997  MvWBAo164qmZGu_04b08vw       bamboo-house-indianapolis-2   \n",
       "998  qJAWrsvNv74KYAoo6TAj0A        long-s-bakery-indianapolis   \n",
       "999  rMfI2VVaZoDgF-GYdvOw8A    wings-and-kabob-indianapolis-2   \n",
       "\n",
       "                    name                                          image_url  \\\n",
       "995  El Valle Minimarket  https://s3-media2.fl.yelpcdn.com/bphoto/PCKddA...   \n",
       "996       Little Caesars  https://s3-media2.fl.yelpcdn.com/bphoto/2lc5Ap...   \n",
       "997         Bamboo House  https://s3-media2.fl.yelpcdn.com/bphoto/ae9kjs...   \n",
       "998        Long’s Bakery  https://s3-media1.fl.yelpcdn.com/bphoto/29xvrY...   \n",
       "999        Wings & Kabob  https://s3-media1.fl.yelpcdn.com/bphoto/aoigS9...   \n",
       "\n",
       "     is_closed                                                url  \\\n",
       "995      False  https://www.yelp.com/biz/el-valle-minimarket-i...   \n",
       "996      False  https://www.yelp.com/biz/little-caesars-avon-2...   \n",
       "997      False  https://www.yelp.com/biz/bamboo-house-indianap...   \n",
       "998      False  https://www.yelp.com/biz/long-s-bakery-indiana...   \n",
       "999      False  https://www.yelp.com/biz/wings-and-kabob-india...   \n",
       "\n",
       "     review_count                                         categories  rating  \\\n",
       "995            14  [{'alias': 'mexican', 'title': 'Mexican'}, {'a...     4.5   \n",
       "996             3             [{'alias': 'pizza', 'title': 'Pizza'}]     2.5   \n",
       "997            81         [{'alias': 'chinese', 'title': 'Chinese'}]     3.5   \n",
       "998           366       [{'alias': 'bakeries', 'title': 'Bakeries'}]     4.5   \n",
       "999            24  [{'alias': 'chicken_wings', 'title': 'Chicken ...     4.5   \n",
       "\n",
       "                                           coordinates        transactions  \\\n",
       "995       {'latitude': 39.6586, 'longitude': -86.1254}          [delivery]   \n",
       "996  {'latitude': 39.7638349, 'longitude': -86.3272...                  []   \n",
       "997  {'latitude': 39.8494606, 'longitude': -86.1231...  [delivery, pickup]   \n",
       "998  {'latitude': 39.664815837887524, 'longitude': ...                  []   \n",
       "999    {'latitude': 39.88333, 'longitude': -86.208414}  [delivery, pickup]   \n",
       "\n",
       "    price                                           location         phone  \\\n",
       "995   NaN  {'address1': '7482 Madison Ave', 'address2': N...  +13177569187   \n",
       "996     $  {'address1': '10976 US Hwy 36', 'address2': ''...  +13172099995   \n",
       "997     $  {'address1': '2330 E 53rd St', 'address2': '',...  +13172518080   \n",
       "998     $  {'address1': '2301 E Southport Rd', 'address2'...  +13177831442   \n",
       "999   NaN  {'address1': '7133 Michigan Rd', 'address2': N...  +13179815692   \n",
       "\n",
       "      display_phone      distance  \n",
       "995  (317) 756-9187  16504.139557  \n",
       "996  (317) 209-9995  16793.179898  \n",
       "997  (317) 251-8080   4981.904568  \n",
       "998  (317) 783-1442  15790.119889  \n",
       "999  (317) 981-5692  10454.500558  "
      ]
     },
     "metadata": {},
     "output_type": "display_data"
    }
   ],
   "source": [
    "# load final results\n",
    "final_df = pd.read_json(JSON_FILE)\n",
    "display(final_df.head(), final_df.tail())"
   ]
  },
  {
   "cell_type": "code",
   "execution_count": 42,
   "id": "2b96183b",
   "metadata": {},
   "outputs": [],
   "source": [
    "# save the final results to a compressed csv\n",
    "final_df.to_csv('Data/final_results_indianapolis_pizza.csv.gz', compression='gzip',index=False)"
   ]
  }
 ],
 "metadata": {
  "kernelspec": {
   "display_name": "Python (dojo-env)",
   "language": "python",
   "name": "dojo-env"
  },
  "language_info": {
   "codemirror_mode": {
    "name": "ipython",
    "version": 3
   },
   "file_extension": ".py",
   "mimetype": "text/x-python",
   "name": "python",
   "nbconvert_exporter": "python",
   "pygments_lexer": "ipython3",
   "version": "3.9.15"
  },
  "toc": {
   "base_numbering": 1,
   "nav_menu": {},
   "number_sections": false,
   "sideBar": true,
   "skip_h1_title": false,
   "title_cell": "Table of Contents",
   "title_sidebar": "Contents",
   "toc_cell": false,
   "toc_position": {},
   "toc_section_display": true,
   "toc_window_display": false
  }
 },
 "nbformat": 4,
 "nbformat_minor": 5
}
